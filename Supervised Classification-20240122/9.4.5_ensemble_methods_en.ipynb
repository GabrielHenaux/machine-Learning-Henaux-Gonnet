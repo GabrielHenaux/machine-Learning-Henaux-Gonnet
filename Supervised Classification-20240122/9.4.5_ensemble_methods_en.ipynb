{
 "cells": [
  {
   "cell_type": "code",
   "execution_count": 14,
   "metadata": {},
   "outputs": [
    {
     "data": {
      "text/html": [
       "<style>div.item {\n",
       "    vertical-align: bottom;\n",
       "    text-align: center;\n",
       "}\n",
       "img {\n",
       "    background-color: white;\n",
       "}\n",
       ".caption {\n",
       "    display: block;\n",
       "}\n",
       "\n",
       "/* Three image containers (use 25% for four, and 50% for two, etc) */\n",
       ".column {\n",
       "  float: left;\n",
       "  width: 50%;\n",
       "  padding: 5px;\n",
       "}\n",
       "\n",
       "/* Clear floats after image containers */\n",
       ".row::after {\n",
       "  content: \"\";\n",
       "  clear: both;\n",
       "  display: table;\n",
       "}\n",
       "</style>"
      ],
      "text/plain": [
       "<IPython.core.display.HTML object>"
      ]
     },
     "execution_count": 14,
     "metadata": {},
     "output_type": "execute_result"
    }
   ],
   "source": [
    "### import utils\n",
    "import warnings, utils\n",
    "\n",
    "warnings.filterwarnings('ignore')\n",
    "utils.set_css_style('style.css')"
   ]
  },
  {
   "cell_type": "markdown",
   "metadata": {},
   "source": [
    "# 1. Ensemble Methods\n",
    "\n",
    "We all do that! Before we make any big decisions, we ask people’s opinions, like our friends, our family members, even our dogs/cats, to prevent us from being biased or irrational.\n",
    "\n",
    "Ensemble learning is a machine learning paradigm where multiple models (often called “weak learners”) are trained to solve the same problem and combined to get better results. The main hypothesis is that when weak models are correctly combined we can obtain more accurate and robust models.\n",
    "\n",
    "In ensemble learning theory, we call weak learners (or base models) models that can be used as building blocks for designing more complex models by combining several of them. Most of the time, these base models perform not so well by themselves either because they have high bias or because they have too much variance to be robust (overfitting). Then, the idea of ensemble methods is to try reducing bias and/or variance of such weak learners by combining several of them together in order to create a strong learner (or ensemble model) that achieves better performance.\n",
    "\n",
    "We can mention three major kinds of meta-algorithms that aim at combining weak learners:\n",
    "\n",
    "* **Bagging**, that often considers homogeneous weak learners (a single base learning algorithm is used so that we have homogeneous weak learners that are trained in different ways), learns them independently from each other in parallel and combines them following some kind of deterministic averaging process.\n",
    "* **Boosting**, that often considers homogeneous weak learners, learns them sequentially in a very adaptative way (a base model depends on the previous ones) and combines them following a deterministic strategy.\n",
    "* **Stacking**, that often considers heterogeneous weak learners, learns them in parallel and combines them by training a meta-model to output a prediction based on the different weak models' predictions.\n",
    "\n",
    "Very roughly, we can say that bagging will mainly focus on getting an ensemble model with less variance than its components whereas boosting and stacking will mainly try to produce strong models less biased than their components (even if variance can also be reduced)."
   ]
  },
  {
   "cell_type": "markdown",
   "metadata": {},
   "source": [
    "# 2. Bagging\n",
    "\n",
    "**Bagging** stands for **bootstrap aggregating**.\n",
    "\n",
    "Let’s begin by defining **bootstrapping**. This statistical technique consists in generating samples of size B (called bootstrap samples) from an initial dataset of size N by randomly drawing with replacement B observations, i.e. It's possible to have the same observation multiple times in the same sample.\n",
    "\n",
    "<img src=\"figures/bootstrapping.png\" alt=\"bootstrapping\" style=\"width: 500px;\"/>\n",
    "\n",
    "Under some assumptions, these samples have pretty good statistical properties: they can be seen as being drawn both directly from the true underlying (and often unknown) data distribution and independently from each others. So, they can be considered as representative and independent samples of the true data distribution. To make this approximation valid: First, the size N of the initial dataset should be large enough to capture most of the complexity of the underlying distribution so that sampling from the dataset is a good approximation of sampling from the real distribution (representativity). Second, the size N of the dataset should be large enough compared to the size B of the bootstrap samples so that samples are not too much correlated (independence). \n",
    "\n",
    "**Bagging** is used when our goal is to reduce the variance of a **weak learner** such as a **decision tree**. Here the idea is to create several subsets of data from the training sample chosen randomly with replacement. Now, each subset of data is then used to train its decision tree. As a result, we end up with an ensemble of different models. Average of all the predictions from different trees are used which is more robust than a single decision tree.\n",
    "\n",
    "<img src=\"figures/bagging.png\" alt=\"bagging\" style=\"width: 500px;\"/>\n",
    "\n",
    "**Aggregation**: There are several possible ways to aggregate the multiple models fitted in parallel. For a regression problem, the outputs of individual models can literally be averaged to obtain the output of the ensemble model. For classification problems, the class outputted by each model can be seen as a vote and the class that receives the majority of the votes is returned by the ensemble model (this is called hard-voting). Still, for a classification problem, we can also consider the probabilities of each class returned by all the models, average these probabilities, and keep the class with the highest average probability (this is called soft-voting). Averages or votes can either be simple or weighted if any relevant weights can be used."
   ]
  },
  {
   "cell_type": "markdown",
   "metadata": {},
   "source": [
    "# 3. Random Forests\n",
    "\n",
    "Decision trees are very popular base models for ensemble methods. Strong learners composed of multiple trees can be called “forests”. Trees that compose a forest can be chosen to be either be shallow (few depths) or deep (a lot of depths, if not fully grown). Shallow trees have less variance but higher bias and then will be a better choice for sequential methods such as boosting. Deep trees, on the other side, have low bias but high variance and, so, are relevant choices for the bagging method that is mainly focused on reducing variance.\n",
    "\n",
    "The random forest approach is a bagging method where deep trees, fitted on bootstrap samples, are combined to produce an output with lower variance. However, random forests also use another trick to make the multiple fitted trees a bit less correlated with each other: They use a **modified tree learning algorithm that selects, at each candidate split in the learning process, a random subset of the features**. This process is sometimes called \"feature bagging\". The reason for doing this is the correlation of the trees in an ordinary bootstrap sample: if one or a few features are very strong predictors for the response variable (target output), these features will be selected in many of the B trees, causing them to become correlated. \n",
    "\n",
    "To sum up, **random forests** uses two key concepts that give it the name random:\n",
    "* Random sampling of training data points when building trees\n",
    "* Random subsets of features considered when splitting nodes\n",
    "\n",
    "<img src=\"figures/random_forest.png\" alt=\"random_forest\" style=\"width: 800px;\"/>\n",
    "\n",
    "### Random Forest hyperparameters\n",
    "\n",
    "For random forest algorithms, one can manipulate a variety of key attributes that define model structure. A comprehensive list can be found under the documentation for scikit-learn’s random forest classifier [here](https://scikit-learn.org/stable/modules/generated/sklearn.ensemble.RandomForestClassifier.html). The following five hyperparameters are commonly adjusted using scikit-learn:\n",
    "\n",
    "* Number of estimators **n_estimators**: Random forest models are ensembles of decision trees and we can define the number of decision trees in the forest. Additional decision trees typically improve model accuracy because predictions are made based on a larger number of “votes” from diverse trees, however, large numbers of trees are computationally expensive.\n",
    "* Maximum features to consider for split **max_features**: Random forest models randomly resample features prior to determining the best split. max_features determines the number of features to resample. Larger max_feature values can result in improved model performance because trees have a larger selection of features from which to choose the best split, but can also cause trees to be less diverse and induce overfitting. The common theme here is one needs to identify an optimal value that balances overfitting and under-fitting. Common choices include:\n",
    "    * ‘auto’: places no restrictions on the number of features,\n",
    "    * ‘sqrt’: square root of the total number of features,\n",
    "    * ‘log2’: base two logarithms of the total number of features.\n",
    "* The maximum depth of a tree **max_depth**: A range of depth values should be evaluated, including “None” where trees are split until all the leaves are pure.\n",
    "* Minimum samples for a node split **min_samples_split**: We can control the minimum number of samples required to split each node. \n",
    "* Minimum samples for a terminal node (leaf) **min_samples_leaf**: Much like stopping the growth of trees once a minimum number of samples per split is reached, we can set the minimum number of samples required for each leaf. With values too large, the trees may not be able to split enough to capture sufficient variation in the data. Optimal values for this hyperparameter are dependent on the size of the training set.\n",
    "\n",
    "Validation and cross-validation are often used to determine the optimal values for hyperparameters; we want to identify a model structure that performs the best on records it has not been trained on. A variety of hyperparameter values should be considered. "
   ]
  },
  {
   "cell_type": "markdown",
   "metadata": {},
   "source": [
    "# 3. Boosting\n",
    "\n",
    "Boosting methods work in the same spirit as bagging methods: we build a family of models that are aggregated to obtain a strong learner that performs better. However, unlike bagging that mainly aims at reducing variance, boosting is a technique that consists in fitting sequentially multiple weak learners in a very adaptative way: each model in the sequence is fitted giving more importance to observations in the dataset that were badly handled by the previous models in the sequence. Intuitively, each new model focuses its efforts on the most difficult observations to fit up to now, so that we obtain, at the end of the process, a strong learner with lower bias (even if we can notice that boosting can also have the effect of reducing variance). Boosting, like bagging, can be used for regression as well as for classification problems.\n",
    "\n",
    "<img src=\"figures/boosting.png\" alt=\"boosting\" style=\"width: 700px;\"/>\n",
    "\n",
    "But the question is, how can weak learners be sequentially fitted (what information from previous models do we take into account when fitting current model?) and how they will be aggregated (how do we aggregate the current model to the previous ones?). There are two important boosting algorithms: **adaboost** and **gradient boosting**.\n",
    "\n",
    "In a nutshell, these two meta-algorithms differ on how they create and aggregate the weak learners during the sequential process. Adaptive boosting updates the weights attached to each of the training dataset observations whereas gradient boosting updates the value of these observations. "
   ]
  },
  {
   "attachments": {},
   "cell_type": "markdown",
   "metadata": {},
   "source": [
    "## 3.1. Adaptative boosting\n",
    "\n",
    "Adaptive Boosting, or most commonly known AdaBoost, is a Boosting algorithm. This method corrects its predecessor by paying more attention to underfitted training instances by the previous model. Hence, at every new predictor, the focus will be, each time, on the harder cases.\n",
    "\n",
    "To build an AdaBoost classifier, we train a Decision Tree algorithm (considered as our weak learner) to make predictions on our training data. Now, following the methodology of AdaBoost, the weight of the misclassified training instances is increased. The second classifier is trained and acknowledges the updated weights and it repeats the procedure over and over again. \n",
    "\n",
    "<img src=\"figures/adaboost.png\" alt=\"adaboost\" style=\"width: 600px;\"/>\n",
    "\n",
    "> At the end of every model prediction we end up boosting the weights of the misclassified instances so that the next model does a better job on them, and so on.\n",
    "\n",
    "The great disadvantage of this algorithm is that the model cannot be parallelized since each predictor can only be trained after the previous one has been trained and evaluated.\n",
    "\n",
    "Below are the steps for performing the AdaBoost algorithm:\n",
    "\n",
    "* **Step 0: Initially, all observations are given equal weights.**\n",
    "\n",
    "Initialize the weights of data points. If the training set has 100 data points, then each point’s initial weight should be 1/100 = 0.01.\n",
    "* **Step 1: Train the weak learner with the given data points weights.**\n",
    "* **Step 2: Calculate the error rate (e) of the decision tree.** \n",
    "\n",
    "Using this model, predictions are made on the whole dataset. The error rate (e) is just how many wrong predictions out of total (we treat the wrong predictions differently based on its data point’s weight). The higher the weight of the data point, the more the corresponding error will be weighted during the calculation of the (e).\n",
    "\n",
    "* **Step 3: Calculate this decision tree’s weight in the ensemble**\n",
    "    * the higher error rate of a tree, the less decision power (the less the tree's weight is) the tree will be given during the later voting\n",
    "    * the lower weighted error rate of a tree, the higher decision power (the more the tree's weight is) the tree will be given during the later voting\n",
    "    * In many adaboost algorithms, the weight of the tree = learning rate * log( (1 — e) / e)\n",
    "* **Step 4: Update weights of wrongly classified points**: While creating the next model, higher weights are given to the data points which were predicted incorrectly.\n",
    "    * if the model got this data point correct, the weight stays the same\n",
    "    * if the model got this data point wrong, the new weight of this point = old weight * np.exp(weight of this tree) \n",
    "Note: The higher the weight of the tree (more accurate this tree performs), the more boost (importance) the misclassified data point by this tree will get. The weights of the data points are normalized after all the misclassified points are updated.\n",
    "* **Step 5: Repeat the process** (until the error function doesn't change or the number of trees we set to train is reached )\n",
    "* **Step 6: Make the final prediction**\n",
    "The AdaBoost makes a new prediction by adding up the weight (of each tree) multiplied by the prediction (of each tree). Obviously, the tree with higher weight will have more power of influence on the final decision.\n",
    "\n",
    "<img src=\"figures/adaboost2.png\" alt=\"adaboost\" style=\"width: 600px;\"/>\n",
    "\n",
    "### Adaptive Boosting hyperparameters\n",
    "\n",
    "The most important hyperparameters used for adaboost in scikit-learn are:\n",
    "\n",
    "* **base_estimators**: specifies the base type estimator, i.e. the algorithm to be used as base learner.\n",
    "* **n_estimators**: it defines the number of base estimators, where the default is 50 but you can increase it in order to obtain a better performance.\n",
    "* **learning_rate**: same impact as in gradient descent algorithm\n",
    "* **max_depth**: Maximum depth of the individual estimator"
   ]
  },
  {
   "cell_type": "markdown",
   "metadata": {},
   "source": [
    "## 3.2. Gradient Boosting\n",
    "\n",
    "This is another very popular Boosting algorithm whose work basis is just like what we’ve seen for AdaBoost. Gradient Boosting works by sequentially adding the previous predictors underfitted predictions to the ensemble, ensuring the errors made previously are corrected.\n",
    "\n",
    "The difference lies in what it does with the underfitted values of its predecessor. Contrary to AdaBoost, which tweaks the instance weights at every interaction, this method tries to fit the new predictor to the residual errors made by the previous predictor.\n",
    "\n",
    "\n",
    "Below are the steps for performing the Gradient Boosting algorithm:\n",
    "\n",
    "* **Step 1: Train a decision tree**\n",
    "* **Step 2: Apply the decision tree just trained to predict**\n",
    "* **Step 3: Calculate the residuals of this decision tree. Save residual errors as the new target y**\n",
    "* **Step 4: Repeat Step 1** (until the number of trees we set to train is reached)\n",
    "* **Step 5: Make the final prediction**: The Gradient Boosting makes a new prediction by simply adding up the predictions (of all trees).\n",
    "\n",
    "<img src=\"figures/gradboost.png\" alt=\"adaboost\" style=\"width: 600px;\"/>\n",
    "\n",
    "\n",
    "### Gradient Boosting hyperparameters\n",
    "\n",
    "The hyperparameters used for gradient boosting in scikit-learn are:\n",
    "\n",
    "* **min_samples_split**: Minimum number of observation which is required in a node to be considered for splitting. It is used to control overfitting.\n",
    "* **min_samples_leaf**: Minimum samples required in a terminal or leaf node. Lower values should be chosen for imbalanced class problems since the regions in which the minority class will be in the majority will be very small.\n",
    "* **max_depth** : maximum depth of a tree. Used to control overfitting.\n",
    "* **max_features** : number of features it should consider while searching for the best split.\n",
    "\n",
    "\n",
    "\n",
    "### 3.2.1. XGBoost\n",
    "\n",
    "Extreme Gradient Boosting is an advanced implementation of the Gradient Boosting. This algorithm has high predictive power and is ten times faster than any other gradient boosting techniques. Moreover, includes a variety of regularisation which reduces overfitting and improves overall performance.\n",
    "\n",
    "Advantages:\n",
    "* Implements regularisation helping reduce overfit\n",
    "* Implements parallel processing makes it much faster \n",
    "* Allows users to define custom optimization objectives and evaluation criteria adding a whole new dimension to the model\n",
    "* XGBoost has an in-built routine to handle missing values\n",
    "* XGBoost makes splits up to the max_depth specified and then starts pruning the tree backward and removes splits beyond which there is no positive gain\n",
    "* XGBoost allows a user to run cross-validation at each iteration of the boosting process and thus it is easy to get the exact optimum number of boosting iterations in a single run\n",
    "\n",
    "### 3.2.2. Light GB\n",
    "\n",
    "For datasets which are extremely large Light Gradient Boosting is the best, compared to all of the other, since it takes less time to run.\n",
    "\n",
    "<img src=\"figures/level-wise-tree.png\" alt=\"level-wise-tree\" style=\"width: 460px;\"/>\n",
    "\n",
    "<img src=\"figures/leaf-wise-tree.png\" alt=\"leaf-wise-tree\" style=\"width: 600px;\"/>\n",
    "\n",
    "This algorithm is based on leaf-wise tree growth contrary to others which work in a level-wise approach pattern. You can see a comparison between XGBoost and Light GB [here](https://www.analyticsvidhya.com/blog/2017/06/which-algorithm-takes-the-crown-light-gbm-vs-xgboost/)."
   ]
  },
  {
   "cell_type": "markdown",
   "metadata": {},
   "source": [
    "# 4. Ensemble Methods with Scikit-Learn\n",
    "\n",
    "## The dataset\n",
    "\n",
    "The dataset we'll be using contain the results of a virtual driving simulation of vehicles with an AD system. Based on the results of these simulation, we would like to predict for a new vehicle, whether the distance to the vehicle in front is respected and whether the safety distance is kept at all times, namely 2 seconds.\n",
    "\n",
    "This variable is therefore binary (Did the vehicle keep the safety distance? Yes or no). We call it a warning.\n",
    "\n",
    "The explanatory variables are called metadata. These are variables entered in the simulation scenario."
   ]
  },
  {
   "cell_type": "code",
   "execution_count": 15,
   "metadata": {},
   "outputs": [],
   "source": [
    "# Import Package\n",
    "import pandas as pd\n",
    "import numpy as np\n",
    "import seaborn as sns\n",
    "import matplotlib.pyplot as plt\n",
    "\n",
    "%matplotlib inline\n",
    "from sklearn import metrics\n",
    "from sklearn.ensemble import RandomForestClassifier, GradientBoostingClassifier\n",
    "from sklearn.model_selection import train_test_split, RandomizedSearchCV"
   ]
  },
  {
   "cell_type": "markdown",
   "metadata": {},
   "source": [
    "Reading the data in csv using `pandas`"
   ]
  },
  {
   "cell_type": "code",
   "execution_count": 16,
   "metadata": {},
   "outputs": [
    {
     "name": "stdout",
     "output_type": "stream",
     "text": [
      "metadata dataset size (19992, 13)\n",
      "warnings dataset size (19990, 4)\n"
     ]
    }
   ],
   "source": [
    "metadata = pd.read_csv('Data/metadata.csv')\n",
    "warnings = pd.read_csv('Data/warnings.csv')\n",
    "print('metadata dataset size', str(metadata.shape))\n",
    "print('warnings dataset size', str(warnings.shape))"
   ]
  },
  {
   "cell_type": "code",
   "execution_count": 17,
   "metadata": {
    "scrolled": true
   },
   "outputs": [
    {
     "data": {
      "text/html": [
       "<div>\n",
       "<style scoped>\n",
       "    .dataframe tbody tr th:only-of-type {\n",
       "        vertical-align: middle;\n",
       "    }\n",
       "\n",
       "    .dataframe tbody tr th {\n",
       "        vertical-align: top;\n",
       "    }\n",
       "\n",
       "    .dataframe thead th {\n",
       "        text-align: right;\n",
       "    }\n",
       "</style>\n",
       "<table border=\"1\" class=\"dataframe\">\n",
       "  <thead>\n",
       "    <tr style=\"text-align: right;\">\n",
       "      <th></th>\n",
       "      <th>scenario_id</th>\n",
       "      <th>AccelDur_s</th>\n",
       "      <th>LaneWidth_m</th>\n",
       "      <th>PVSpeed_kmh</th>\n",
       "      <th>PVPosit_m</th>\n",
       "      <th>PVAccel_ms2</th>\n",
       "      <th>PVDecel_ms2</th>\n",
       "      <th>PVCar</th>\n",
       "      <th>PVBus</th>\n",
       "      <th>PVMoto</th>\n",
       "      <th>Slope-6</th>\n",
       "      <th>Slope0</th>\n",
       "      <th>Slop6</th>\n",
       "    </tr>\n",
       "  </thead>\n",
       "  <tbody>\n",
       "    <tr>\n",
       "      <th>0</th>\n",
       "      <td>5bc4920704c87d00012789f3</td>\n",
       "      <td>1.4</td>\n",
       "      <td>3.5</td>\n",
       "      <td>82.3</td>\n",
       "      <td>584.0</td>\n",
       "      <td>2.0</td>\n",
       "      <td>2.2</td>\n",
       "      <td>1</td>\n",
       "      <td>0</td>\n",
       "      <td>0</td>\n",
       "      <td>0</td>\n",
       "      <td>1</td>\n",
       "      <td>0</td>\n",
       "    </tr>\n",
       "    <tr>\n",
       "      <th>1</th>\n",
       "      <td>5bc4920704c87d00012789f4</td>\n",
       "      <td>1.9</td>\n",
       "      <td>3.5</td>\n",
       "      <td>97.3</td>\n",
       "      <td>563.0</td>\n",
       "      <td>1.5</td>\n",
       "      <td>2.8</td>\n",
       "      <td>1</td>\n",
       "      <td>0</td>\n",
       "      <td>0</td>\n",
       "      <td>0</td>\n",
       "      <td>1</td>\n",
       "      <td>0</td>\n",
       "    </tr>\n",
       "    <tr>\n",
       "      <th>2</th>\n",
       "      <td>5bc4920704c87d00012789f5</td>\n",
       "      <td>2.6</td>\n",
       "      <td>3.5</td>\n",
       "      <td>82.0</td>\n",
       "      <td>565.0</td>\n",
       "      <td>2.2</td>\n",
       "      <td>2.1</td>\n",
       "      <td>1</td>\n",
       "      <td>0</td>\n",
       "      <td>0</td>\n",
       "      <td>0</td>\n",
       "      <td>1</td>\n",
       "      <td>0</td>\n",
       "    </tr>\n",
       "    <tr>\n",
       "      <th>3</th>\n",
       "      <td>5bc4920704c87d00012789f6</td>\n",
       "      <td>1.8</td>\n",
       "      <td>3.5</td>\n",
       "      <td>83.3</td>\n",
       "      <td>687.0</td>\n",
       "      <td>2.2</td>\n",
       "      <td>1.2</td>\n",
       "      <td>1</td>\n",
       "      <td>0</td>\n",
       "      <td>0</td>\n",
       "      <td>0</td>\n",
       "      <td>1</td>\n",
       "      <td>0</td>\n",
       "    </tr>\n",
       "    <tr>\n",
       "      <th>4</th>\n",
       "      <td>5bc4920704c87d00012789f7</td>\n",
       "      <td>2.6</td>\n",
       "      <td>3.5</td>\n",
       "      <td>102.7</td>\n",
       "      <td>562.0</td>\n",
       "      <td>1.4</td>\n",
       "      <td>2.5</td>\n",
       "      <td>1</td>\n",
       "      <td>0</td>\n",
       "      <td>0</td>\n",
       "      <td>0</td>\n",
       "      <td>1</td>\n",
       "      <td>0</td>\n",
       "    </tr>\n",
       "  </tbody>\n",
       "</table>\n",
       "</div>"
      ],
      "text/plain": [
       "                scenario_id  AccelDur_s  LaneWidth_m  PVSpeed_kmh  PVPosit_m  \\\n",
       "0  5bc4920704c87d00012789f3         1.4          3.5         82.3      584.0   \n",
       "1  5bc4920704c87d00012789f4         1.9          3.5         97.3      563.0   \n",
       "2  5bc4920704c87d00012789f5         2.6          3.5         82.0      565.0   \n",
       "3  5bc4920704c87d00012789f6         1.8          3.5         83.3      687.0   \n",
       "4  5bc4920704c87d00012789f7         2.6          3.5        102.7      562.0   \n",
       "\n",
       "   PVAccel_ms2  PVDecel_ms2  PVCar  PVBus  PVMoto  Slope-6  Slope0  Slop6  \n",
       "0          2.0          2.2      1      0       0        0       1      0  \n",
       "1          1.5          2.8      1      0       0        0       1      0  \n",
       "2          2.2          2.1      1      0       0        0       1      0  \n",
       "3          2.2          1.2      1      0       0        0       1      0  \n",
       "4          1.4          2.5      1      0       0        0       1      0  "
      ]
     },
     "execution_count": 17,
     "metadata": {},
     "output_type": "execute_result"
    }
   ],
   "source": [
    "metadata.head()"
   ]
  },
  {
   "cell_type": "code",
   "execution_count": 18,
   "metadata": {},
   "outputs": [
    {
     "data": {
      "text/html": [
       "<div>\n",
       "<style scoped>\n",
       "    .dataframe tbody tr th:only-of-type {\n",
       "        vertical-align: middle;\n",
       "    }\n",
       "\n",
       "    .dataframe tbody tr th {\n",
       "        vertical-align: top;\n",
       "    }\n",
       "\n",
       "    .dataframe thead th {\n",
       "        text-align: right;\n",
       "    }\n",
       "</style>\n",
       "<table border=\"1\" class=\"dataframe\">\n",
       "  <thead>\n",
       "    <tr style=\"text-align: right;\">\n",
       "      <th></th>\n",
       "      <th>scenario_id</th>\n",
       "      <th>longitudinal_deceleration</th>\n",
       "      <th>safety_distance_m</th>\n",
       "      <th>safety_distance_s</th>\n",
       "    </tr>\n",
       "  </thead>\n",
       "  <tbody>\n",
       "    <tr>\n",
       "      <th>0</th>\n",
       "      <td>5bc4920704c87d00012789f3</td>\n",
       "      <td>1.0</td>\n",
       "      <td>0.0</td>\n",
       "      <td>0.0</td>\n",
       "    </tr>\n",
       "    <tr>\n",
       "      <th>1</th>\n",
       "      <td>5bc4920704c87d00012789f4</td>\n",
       "      <td>0.0</td>\n",
       "      <td>1.0</td>\n",
       "      <td>1.0</td>\n",
       "    </tr>\n",
       "    <tr>\n",
       "      <th>2</th>\n",
       "      <td>5bc4920704c87d00012789f5</td>\n",
       "      <td>1.0</td>\n",
       "      <td>0.0</td>\n",
       "      <td>0.0</td>\n",
       "    </tr>\n",
       "    <tr>\n",
       "      <th>3</th>\n",
       "      <td>5bc4920704c87d00012789f6</td>\n",
       "      <td>1.0</td>\n",
       "      <td>0.0</td>\n",
       "      <td>0.0</td>\n",
       "    </tr>\n",
       "    <tr>\n",
       "      <th>4</th>\n",
       "      <td>5bc4920704c87d00012789f7</td>\n",
       "      <td>0.0</td>\n",
       "      <td>1.0</td>\n",
       "      <td>1.0</td>\n",
       "    </tr>\n",
       "  </tbody>\n",
       "</table>\n",
       "</div>"
      ],
      "text/plain": [
       "                scenario_id  longitudinal_deceleration  safety_distance_m  \\\n",
       "0  5bc4920704c87d00012789f3                        1.0                0.0   \n",
       "1  5bc4920704c87d00012789f4                        0.0                1.0   \n",
       "2  5bc4920704c87d00012789f5                        1.0                0.0   \n",
       "3  5bc4920704c87d00012789f6                        1.0                0.0   \n",
       "4  5bc4920704c87d00012789f7                        0.0                1.0   \n",
       "\n",
       "   safety_distance_s  \n",
       "0                0.0  \n",
       "1                1.0  \n",
       "2                0.0  \n",
       "3                0.0  \n",
       "4                1.0  "
      ]
     },
     "execution_count": 18,
     "metadata": {},
     "output_type": "execute_result"
    }
   ],
   "source": [
    "warnings.head()"
   ]
  },
  {
   "cell_type": "markdown",
   "metadata": {},
   "source": [
    "From `warnings` dataframe, we will only keep \"safety_distance_s\"."
   ]
  },
  {
   "cell_type": "code",
   "execution_count": 19,
   "metadata": {},
   "outputs": [],
   "source": [
    "warnings = warnings[[\"scenario_id\",\"safety_distance_s\"]]"
   ]
  },
  {
   "cell_type": "markdown",
   "metadata": {},
   "source": [
    "Let's join the dataframes together using the common key `scenario_id`"
   ]
  },
  {
   "cell_type": "code",
   "execution_count": 20,
   "metadata": {},
   "outputs": [],
   "source": [
    "df = metadata.merge(warnings, left_on='scenario_id', right_on='scenario_id')\n",
    "df = df.set_index('scenario_id')"
   ]
  },
  {
   "cell_type": "code",
   "execution_count": 21,
   "metadata": {},
   "outputs": [
    {
     "data": {
      "text/html": [
       "<div>\n",
       "<style scoped>\n",
       "    .dataframe tbody tr th:only-of-type {\n",
       "        vertical-align: middle;\n",
       "    }\n",
       "\n",
       "    .dataframe tbody tr th {\n",
       "        vertical-align: top;\n",
       "    }\n",
       "\n",
       "    .dataframe thead th {\n",
       "        text-align: right;\n",
       "    }\n",
       "</style>\n",
       "<table border=\"1\" class=\"dataframe\">\n",
       "  <thead>\n",
       "    <tr style=\"text-align: right;\">\n",
       "      <th></th>\n",
       "      <th>AccelDur_s</th>\n",
       "      <th>LaneWidth_m</th>\n",
       "      <th>PVSpeed_kmh</th>\n",
       "      <th>PVPosit_m</th>\n",
       "      <th>PVAccel_ms2</th>\n",
       "      <th>PVDecel_ms2</th>\n",
       "      <th>PVCar</th>\n",
       "      <th>PVBus</th>\n",
       "      <th>PVMoto</th>\n",
       "      <th>Slope-6</th>\n",
       "      <th>Slope0</th>\n",
       "      <th>Slop6</th>\n",
       "      <th>safety_distance_s</th>\n",
       "    </tr>\n",
       "    <tr>\n",
       "      <th>scenario_id</th>\n",
       "      <th></th>\n",
       "      <th></th>\n",
       "      <th></th>\n",
       "      <th></th>\n",
       "      <th></th>\n",
       "      <th></th>\n",
       "      <th></th>\n",
       "      <th></th>\n",
       "      <th></th>\n",
       "      <th></th>\n",
       "      <th></th>\n",
       "      <th></th>\n",
       "      <th></th>\n",
       "    </tr>\n",
       "  </thead>\n",
       "  <tbody>\n",
       "    <tr>\n",
       "      <th>5bc4920704c87d00012789f3</th>\n",
       "      <td>1.4</td>\n",
       "      <td>3.5</td>\n",
       "      <td>82.3</td>\n",
       "      <td>584.0</td>\n",
       "      <td>2.0</td>\n",
       "      <td>2.2</td>\n",
       "      <td>1</td>\n",
       "      <td>0</td>\n",
       "      <td>0</td>\n",
       "      <td>0</td>\n",
       "      <td>1</td>\n",
       "      <td>0</td>\n",
       "      <td>0.0</td>\n",
       "    </tr>\n",
       "    <tr>\n",
       "      <th>5bc4920704c87d00012789f4</th>\n",
       "      <td>1.9</td>\n",
       "      <td>3.5</td>\n",
       "      <td>97.3</td>\n",
       "      <td>563.0</td>\n",
       "      <td>1.5</td>\n",
       "      <td>2.8</td>\n",
       "      <td>1</td>\n",
       "      <td>0</td>\n",
       "      <td>0</td>\n",
       "      <td>0</td>\n",
       "      <td>1</td>\n",
       "      <td>0</td>\n",
       "      <td>1.0</td>\n",
       "    </tr>\n",
       "    <tr>\n",
       "      <th>5bc4920704c87d00012789f5</th>\n",
       "      <td>2.6</td>\n",
       "      <td>3.5</td>\n",
       "      <td>82.0</td>\n",
       "      <td>565.0</td>\n",
       "      <td>2.2</td>\n",
       "      <td>2.1</td>\n",
       "      <td>1</td>\n",
       "      <td>0</td>\n",
       "      <td>0</td>\n",
       "      <td>0</td>\n",
       "      <td>1</td>\n",
       "      <td>0</td>\n",
       "      <td>0.0</td>\n",
       "    </tr>\n",
       "    <tr>\n",
       "      <th>5bc4920704c87d00012789f6</th>\n",
       "      <td>1.8</td>\n",
       "      <td>3.5</td>\n",
       "      <td>83.3</td>\n",
       "      <td>687.0</td>\n",
       "      <td>2.2</td>\n",
       "      <td>1.2</td>\n",
       "      <td>1</td>\n",
       "      <td>0</td>\n",
       "      <td>0</td>\n",
       "      <td>0</td>\n",
       "      <td>1</td>\n",
       "      <td>0</td>\n",
       "      <td>0.0</td>\n",
       "    </tr>\n",
       "    <tr>\n",
       "      <th>5bc4920704c87d00012789f7</th>\n",
       "      <td>2.6</td>\n",
       "      <td>3.5</td>\n",
       "      <td>102.7</td>\n",
       "      <td>562.0</td>\n",
       "      <td>1.4</td>\n",
       "      <td>2.5</td>\n",
       "      <td>1</td>\n",
       "      <td>0</td>\n",
       "      <td>0</td>\n",
       "      <td>0</td>\n",
       "      <td>1</td>\n",
       "      <td>0</td>\n",
       "      <td>1.0</td>\n",
       "    </tr>\n",
       "  </tbody>\n",
       "</table>\n",
       "</div>"
      ],
      "text/plain": [
       "                          AccelDur_s  LaneWidth_m  PVSpeed_kmh  PVPosit_m  \\\n",
       "scenario_id                                                                 \n",
       "5bc4920704c87d00012789f3         1.4          3.5         82.3      584.0   \n",
       "5bc4920704c87d00012789f4         1.9          3.5         97.3      563.0   \n",
       "5bc4920704c87d00012789f5         2.6          3.5         82.0      565.0   \n",
       "5bc4920704c87d00012789f6         1.8          3.5         83.3      687.0   \n",
       "5bc4920704c87d00012789f7         2.6          3.5        102.7      562.0   \n",
       "\n",
       "                          PVAccel_ms2  PVDecel_ms2  PVCar  PVBus  PVMoto  \\\n",
       "scenario_id                                                                \n",
       "5bc4920704c87d00012789f3          2.0          2.2      1      0       0   \n",
       "5bc4920704c87d00012789f4          1.5          2.8      1      0       0   \n",
       "5bc4920704c87d00012789f5          2.2          2.1      1      0       0   \n",
       "5bc4920704c87d00012789f6          2.2          1.2      1      0       0   \n",
       "5bc4920704c87d00012789f7          1.4          2.5      1      0       0   \n",
       "\n",
       "                          Slope-6  Slope0  Slop6  safety_distance_s  \n",
       "scenario_id                                                          \n",
       "5bc4920704c87d00012789f3        0       1      0                0.0  \n",
       "5bc4920704c87d00012789f4        0       1      0                1.0  \n",
       "5bc4920704c87d00012789f5        0       1      0                0.0  \n",
       "5bc4920704c87d00012789f6        0       1      0                0.0  \n",
       "5bc4920704c87d00012789f7        0       1      0                1.0  "
      ]
     },
     "execution_count": 21,
     "metadata": {},
     "output_type": "execute_result"
    }
   ],
   "source": [
    "#verification merge\n",
    "df.head()"
   ]
  },
  {
   "cell_type": "code",
   "execution_count": 22,
   "metadata": {},
   "outputs": [
    {
     "data": {
      "text/plain": [
       "(19990, 13)"
      ]
     },
     "execution_count": 22,
     "metadata": {},
     "output_type": "execute_result"
    }
   ],
   "source": [
    "df.shape"
   ]
  },
  {
   "cell_type": "markdown",
   "metadata": {},
   "source": [
    "The **describe()** method is used for calculating some statistical data like percentile, mean and std of the numerical values of the Series or DataFrame. It analyzes both numeric and object series and also the DataFrame column sets of mixed data types."
   ]
  },
  {
   "cell_type": "code",
   "execution_count": 23,
   "metadata": {},
   "outputs": [
    {
     "data": {
      "text/html": [
       "<div>\n",
       "<style scoped>\n",
       "    .dataframe tbody tr th:only-of-type {\n",
       "        vertical-align: middle;\n",
       "    }\n",
       "\n",
       "    .dataframe tbody tr th {\n",
       "        vertical-align: top;\n",
       "    }\n",
       "\n",
       "    .dataframe thead th {\n",
       "        text-align: right;\n",
       "    }\n",
       "</style>\n",
       "<table border=\"1\" class=\"dataframe\">\n",
       "  <thead>\n",
       "    <tr style=\"text-align: right;\">\n",
       "      <th></th>\n",
       "      <th>AccelDur_s</th>\n",
       "      <th>LaneWidth_m</th>\n",
       "      <th>PVSpeed_kmh</th>\n",
       "      <th>PVPosit_m</th>\n",
       "      <th>PVAccel_ms2</th>\n",
       "      <th>PVDecel_ms2</th>\n",
       "      <th>PVCar</th>\n",
       "      <th>PVBus</th>\n",
       "      <th>PVMoto</th>\n",
       "      <th>Slope-6</th>\n",
       "      <th>Slope0</th>\n",
       "      <th>Slop6</th>\n",
       "      <th>safety_distance_s</th>\n",
       "    </tr>\n",
       "  </thead>\n",
       "  <tbody>\n",
       "    <tr>\n",
       "      <th>count</th>\n",
       "      <td>19990.000000</td>\n",
       "      <td>19990.000000</td>\n",
       "      <td>19990.000000</td>\n",
       "      <td>19990.000000</td>\n",
       "      <td>19990.000000</td>\n",
       "      <td>19990.000000</td>\n",
       "      <td>19990.000000</td>\n",
       "      <td>19990.000000</td>\n",
       "      <td>19990.000000</td>\n",
       "      <td>19990.000000</td>\n",
       "      <td>19990.000000</td>\n",
       "      <td>19990.000000</td>\n",
       "      <td>19990.000000</td>\n",
       "    </tr>\n",
       "    <tr>\n",
       "      <th>mean</th>\n",
       "      <td>2.523307</td>\n",
       "      <td>3.199970</td>\n",
       "      <td>85.232131</td>\n",
       "      <td>610.019210</td>\n",
       "      <td>1.995908</td>\n",
       "      <td>1.498624</td>\n",
       "      <td>0.333317</td>\n",
       "      <td>0.333317</td>\n",
       "      <td>0.333367</td>\n",
       "      <td>0.250025</td>\n",
       "      <td>0.249975</td>\n",
       "      <td>0.249975</td>\n",
       "      <td>0.469485</td>\n",
       "    </tr>\n",
       "    <tr>\n",
       "      <th>std</th>\n",
       "      <td>1.448339</td>\n",
       "      <td>0.300008</td>\n",
       "      <td>14.469862</td>\n",
       "      <td>56.911916</td>\n",
       "      <td>0.578122</td>\n",
       "      <td>0.868606</td>\n",
       "      <td>0.471410</td>\n",
       "      <td>0.471410</td>\n",
       "      <td>0.471428</td>\n",
       "      <td>0.433038</td>\n",
       "      <td>0.433009</td>\n",
       "      <td>0.433009</td>\n",
       "      <td>0.499080</td>\n",
       "    </tr>\n",
       "    <tr>\n",
       "      <th>min</th>\n",
       "      <td>0.000000</td>\n",
       "      <td>2.900000</td>\n",
       "      <td>60.000000</td>\n",
       "      <td>508.000000</td>\n",
       "      <td>1.000000</td>\n",
       "      <td>0.000000</td>\n",
       "      <td>0.000000</td>\n",
       "      <td>0.000000</td>\n",
       "      <td>0.000000</td>\n",
       "      <td>0.000000</td>\n",
       "      <td>0.000000</td>\n",
       "      <td>0.000000</td>\n",
       "      <td>0.000000</td>\n",
       "    </tr>\n",
       "    <tr>\n",
       "      <th>25%</th>\n",
       "      <td>1.300000</td>\n",
       "      <td>2.900000</td>\n",
       "      <td>72.700000</td>\n",
       "      <td>561.000000</td>\n",
       "      <td>1.500000</td>\n",
       "      <td>0.700000</td>\n",
       "      <td>0.000000</td>\n",
       "      <td>0.000000</td>\n",
       "      <td>0.000000</td>\n",
       "      <td>0.000000</td>\n",
       "      <td>0.000000</td>\n",
       "      <td>0.000000</td>\n",
       "      <td>0.000000</td>\n",
       "    </tr>\n",
       "    <tr>\n",
       "      <th>50%</th>\n",
       "      <td>2.500000</td>\n",
       "      <td>2.900000</td>\n",
       "      <td>85.400000</td>\n",
       "      <td>610.000000</td>\n",
       "      <td>2.000000</td>\n",
       "      <td>1.500000</td>\n",
       "      <td>0.000000</td>\n",
       "      <td>0.000000</td>\n",
       "      <td>0.000000</td>\n",
       "      <td>0.000000</td>\n",
       "      <td>0.000000</td>\n",
       "      <td>0.000000</td>\n",
       "      <td>0.000000</td>\n",
       "    </tr>\n",
       "    <tr>\n",
       "      <th>75%</th>\n",
       "      <td>3.800000</td>\n",
       "      <td>3.500000</td>\n",
       "      <td>97.700000</td>\n",
       "      <td>659.000000</td>\n",
       "      <td>2.500000</td>\n",
       "      <td>2.300000</td>\n",
       "      <td>1.000000</td>\n",
       "      <td>1.000000</td>\n",
       "      <td>1.000000</td>\n",
       "      <td>0.750000</td>\n",
       "      <td>0.000000</td>\n",
       "      <td>0.000000</td>\n",
       "      <td>1.000000</td>\n",
       "    </tr>\n",
       "    <tr>\n",
       "      <th>max</th>\n",
       "      <td>5.000000</td>\n",
       "      <td>3.500000</td>\n",
       "      <td>110.000000</td>\n",
       "      <td>712.000000</td>\n",
       "      <td>3.000000</td>\n",
       "      <td>3.000000</td>\n",
       "      <td>1.000000</td>\n",
       "      <td>1.000000</td>\n",
       "      <td>1.000000</td>\n",
       "      <td>1.000000</td>\n",
       "      <td>1.000000</td>\n",
       "      <td>1.000000</td>\n",
       "      <td>1.000000</td>\n",
       "    </tr>\n",
       "  </tbody>\n",
       "</table>\n",
       "</div>"
      ],
      "text/plain": [
       "         AccelDur_s   LaneWidth_m   PVSpeed_kmh     PVPosit_m   PVAccel_ms2  \\\n",
       "count  19990.000000  19990.000000  19990.000000  19990.000000  19990.000000   \n",
       "mean       2.523307      3.199970     85.232131    610.019210      1.995908   \n",
       "std        1.448339      0.300008     14.469862     56.911916      0.578122   \n",
       "min        0.000000      2.900000     60.000000    508.000000      1.000000   \n",
       "25%        1.300000      2.900000     72.700000    561.000000      1.500000   \n",
       "50%        2.500000      2.900000     85.400000    610.000000      2.000000   \n",
       "75%        3.800000      3.500000     97.700000    659.000000      2.500000   \n",
       "max        5.000000      3.500000    110.000000    712.000000      3.000000   \n",
       "\n",
       "        PVDecel_ms2         PVCar         PVBus        PVMoto       Slope-6  \\\n",
       "count  19990.000000  19990.000000  19990.000000  19990.000000  19990.000000   \n",
       "mean       1.498624      0.333317      0.333317      0.333367      0.250025   \n",
       "std        0.868606      0.471410      0.471410      0.471428      0.433038   \n",
       "min        0.000000      0.000000      0.000000      0.000000      0.000000   \n",
       "25%        0.700000      0.000000      0.000000      0.000000      0.000000   \n",
       "50%        1.500000      0.000000      0.000000      0.000000      0.000000   \n",
       "75%        2.300000      1.000000      1.000000      1.000000      0.750000   \n",
       "max        3.000000      1.000000      1.000000      1.000000      1.000000   \n",
       "\n",
       "             Slope0         Slop6  safety_distance_s  \n",
       "count  19990.000000  19990.000000       19990.000000  \n",
       "mean       0.249975      0.249975           0.469485  \n",
       "std        0.433009      0.433009           0.499080  \n",
       "min        0.000000      0.000000           0.000000  \n",
       "25%        0.000000      0.000000           0.000000  \n",
       "50%        0.000000      0.000000           0.000000  \n",
       "75%        0.000000      0.000000           1.000000  \n",
       "max        1.000000      1.000000           1.000000  "
      ]
     },
     "execution_count": 23,
     "metadata": {},
     "output_type": "execute_result"
    }
   ],
   "source": [
    "df.describe()"
   ]
  },
  {
   "cell_type": "markdown",
   "metadata": {},
   "source": [
    "## Data preparation: splitting data into training and test sets\n",
    "\n",
    "We will start by preparing the data:\n",
    "    1. Creation of X and y\n",
    "    2. Spliting the data into training and test sets"
   ]
  },
  {
   "cell_type": "code",
   "execution_count": 24,
   "metadata": {},
   "outputs": [],
   "source": [
    "# X: explanatory variables / y: variable to predict\n",
    "X = df.drop('safety_distance_s', axis=1)\n",
    "y = df[[\"safety_distance_s\"]]"
   ]
  },
  {
   "cell_type": "code",
   "execution_count": 25,
   "metadata": {},
   "outputs": [],
   "source": [
    "#Création des sets d'apprentissage et de test\n",
    "X_train, X_test, y_train, y_test = train_test_split(X, y, test_size=0.3, random_state=42)"
   ]
  },
  {
   "cell_type": "markdown",
   "metadata": {},
   "source": [
    "## Random Forest Classifier"
   ]
  },
  {
   "cell_type": "code",
   "execution_count": 26,
   "metadata": {},
   "outputs": [
    {
     "name": "stdout",
     "output_type": "stream",
     "text": [
      "{'n_estimators': [50, 100, 150, 200, 250, 300, 350, 400], 'max_features': ['auto', 'sqrt', 'log2'], 'max_depth': [10, 20, 30, 40, 50, 60, 70, 80, 90, 100, 110, None], 'min_samples_split': [2, 5, 10], 'min_samples_leaf': [1, 2, 4], 'bootstrap': [True, False]}\n",
      "Fitting 3 folds for each of 10 candidates, totalling 30 fits\n"
     ]
    }
   ],
   "source": [
    "# Create the random grid\n",
    "random_grid = { # Number of trees in random forest\n",
    "               'n_estimators': [int(x) for x in np.linspace(start = 50, stop = 400, num = 8)],\n",
    "                # Number of features to consider at every split\n",
    "               'max_features': ['auto', 'sqrt', 'log2'],\n",
    "                # Maximum number of levels in tree\n",
    "               'max_depth': [int(x) for x in np.linspace(10, 110, num = 11)] + [None],\n",
    "                # Minimum number of samples required to split a node\n",
    "               'min_samples_split': [2, 5, 10],\n",
    "                # Minimum number of samples required at each leaf node\n",
    "               'min_samples_leaf': [1, 2, 4],\n",
    "                # Method of selecting samples for training each tree\n",
    "               'bootstrap': [True, False]}\n",
    "\n",
    "print(random_grid)\n",
    "rf = RandomForestClassifier(criterion=\"gini\", random_state=0)\n",
    "rf_search = RandomizedSearchCV(estimator = rf, param_distributions = random_grid, n_iter = 10, cv = 3, verbose=1, random_state=0)\n",
    "rf_search = rf_search.fit(X_train, y_train)"
   ]
  },
  {
   "cell_type": "code",
   "execution_count": 27,
   "metadata": {},
   "outputs": [
    {
     "data": {
      "text/plain": [
       "{'n_estimators': 250,\n",
       " 'min_samples_split': 5,\n",
       " 'min_samples_leaf': 1,\n",
       " 'max_features': 'auto',\n",
       " 'max_depth': 50,\n",
       " 'bootstrap': False}"
      ]
     },
     "execution_count": 27,
     "metadata": {},
     "output_type": "execute_result"
    }
   ],
   "source": [
    "rf_search.best_params_"
   ]
  },
  {
   "cell_type": "markdown",
   "metadata": {},
   "source": [
    "## Random Forest Model Evaluation "
   ]
  },
  {
   "cell_type": "code",
   "execution_count": 28,
   "metadata": {},
   "outputs": [
    {
     "data": {
      "text/plain": [
       "array([0., 1., 0., 1., 1., 1., 1., 0., 0., 0.])"
      ]
     },
     "execution_count": 28,
     "metadata": {},
     "output_type": "execute_result"
    }
   ],
   "source": [
    "# predicting over training & testing datasets\n",
    "y_train_pred = rf_search.predict(X_train)\n",
    "y_test_pred = rf_search.predict(X_test)\n",
    "\n",
    "#Printing the first 10 predictions:\n",
    "y_test_pred[:10]"
   ]
  },
  {
   "cell_type": "markdown",
   "metadata": {},
   "source": [
    "### Accuracy"
   ]
  },
  {
   "cell_type": "markdown",
   "metadata": {},
   "source": [
    "There are other ways of measuring model performance (precision, recall, F1 Score, ROC Curve, etc). The accuracy is very simple to obtain. To get the mean accuracy on the given training dataset, we can use the method `score`:"
   ]
  },
  {
   "cell_type": "code",
   "execution_count": 29,
   "metadata": {},
   "outputs": [
    {
     "data": {
      "text/plain": [
       "1.0"
      ]
     },
     "execution_count": 29,
     "metadata": {},
     "output_type": "execute_result"
    }
   ],
   "source": [
    "rf_search.score(X_train, y_train)"
   ]
  },
  {
   "cell_type": "markdown",
   "metadata": {},
   "source": [
    "To get the mean accuracy on the given test dataset, we can also use the method `score`:"
   ]
  },
  {
   "cell_type": "code",
   "execution_count": 30,
   "metadata": {},
   "outputs": [
    {
     "data": {
      "text/plain": [
       "0.9713189928297482"
      ]
     },
     "execution_count": 30,
     "metadata": {},
     "output_type": "execute_result"
    }
   ],
   "source": [
    "rf_search.score(X_test, y_test)"
   ]
  },
  {
   "cell_type": "markdown",
   "metadata": {},
   "source": [
    "### Confusion Matrix"
   ]
  },
  {
   "cell_type": "code",
   "execution_count": 31,
   "metadata": {},
   "outputs": [
    {
     "data": {
      "text/plain": [
       "array([[3120,   90],\n",
       "       [  82, 2705]], dtype=int64)"
      ]
     },
     "execution_count": 31,
     "metadata": {},
     "output_type": "execute_result"
    }
   ],
   "source": [
    "metrics.confusion_matrix(y_test, y_test_pred)"
   ]
  },
  {
   "cell_type": "markdown",
   "metadata": {},
   "source": [
    "`scikit-learn` also offers a nice function to plot the confusion matrix."
   ]
  },
  {
   "cell_type": "code",
   "execution_count": 32,
   "metadata": {},
   "outputs": [
    {
     "data": {
      "text/plain": [
       "<sklearn.metrics._plot.confusion_matrix.ConfusionMatrixDisplay at 0x16e60ed6a60>"
      ]
     },
     "execution_count": 32,
     "metadata": {},
     "output_type": "execute_result"
    },
    {
     "data": {
      "image/png": "[encoded data removed]",
      "text/plain": [
       "<Figure size 640x480 with 2 Axes>"
      ]
     },
     "metadata": {},
     "output_type": "display_data"
    }
   ],
   "source": [
    "from sklearn.metrics import ConfusionMatrixDisplay\n",
    "\n",
    "cm = metrics.confusion_matrix(y_test, y_test_pred)\n",
    "disp = ConfusionMatrixDisplay(confusion_matrix=cm, display_labels=rf_search.classes_)\n",
    "disp.plot()"
   ]
  },
  {
   "cell_type": "markdown",
   "metadata": {},
   "source": [
    "## Random Forest Feature Importance"
   ]
  },
  {
   "cell_type": "code",
   "execution_count": 33,
   "metadata": {},
   "outputs": [
    {
     "data": {
      "image/png": "[encoded data removed]",
      "text/plain": [
       "<Figure size 2000x2000 with 1 Axes>"
      ]
     },
     "metadata": {},
     "output_type": "display_data"
    }
   ],
   "source": [
    "features = X_train.columns\n",
    "importances = rf_search.best_estimator_.feature_importances_\n",
    "indices = np.argsort(importances)\n",
    "\n",
    "plt.figure(figsize=(20, 20))\n",
    "plt.title('Feature Importances')\n",
    "plt.barh(range(len(indices)), importances[indices], color='b', align='center')\n",
    "plt.yticks(range(len(indices)), [features[i] for i in indices])\n",
    "plt.xlabel('Relative Importance')\n",
    "plt.show()"
   ]
  },
  {
   "cell_type": "markdown",
   "metadata": {},
   "source": [
    "## Gradient Boosting Classifier"
   ]
  },
  {
   "cell_type": "code",
   "execution_count": 34,
   "metadata": {},
   "outputs": [
    {
     "name": "stdout",
     "output_type": "stream",
     "text": [
      "{'n_estimators': [50, 100, 150, 200, 250, 300, 350, 400], 'max_features': ['auto', 'sqrt', 'log2'], 'max_depth': [10, 20, 30, 40, 50, 60, 70, 80, 90, 100, 110, None], 'min_samples_split': [2, 5, 10], 'min_samples_leaf': [1, 2, 4], 'learning_rate': [0.1, 1], 'subsample': [0.5, 0.7, 0.9]}\n",
      "Fitting 3 folds for each of 10 candidates, totalling 30 fits\n"
     ]
    }
   ],
   "source": [
    "param_grid = {\"max_features\": [\"log2\"],\n",
    "              \"max_depth\": [5],\n",
    "              \"n_estimators\": [300],\n",
    "              \"min_samples_split\" : [7],\n",
    "              'alpha': [10**i for i in np.arange(-4, 4, 2, dtype=float)]}\n",
    "\n",
    "# Create the random grid\n",
    "random_grid = { # Number of trees in gradient boost\n",
    "               'n_estimators': [int(x) for x in np.linspace(start = 50, stop = 400, num = 8)],\n",
    "                # Number of features to consider at every split\n",
    "               'max_features': ['auto', 'sqrt', 'log2'],\n",
    "                # Maximum number of levels in tree\n",
    "               'max_depth': [int(x) for x in np.linspace(10, 110, num = 11)] + [None],\n",
    "                # Minimum number of samples required to split a node\n",
    "               'min_samples_split': [2, 5, 10],\n",
    "                # Minimum number of samples required at each leaf node\n",
    "               'min_samples_leaf': [1, 2, 4],\n",
    "               'learning_rate': [0.1, 1],\n",
    "               'subsample': [0.5, 0.7, 0.9]}\n",
    "\n",
    "print(random_grid)\n",
    "gb = GradientBoostingClassifier(random_state=0)\n",
    "gb_search = RandomizedSearchCV(estimator = gb, param_distributions = random_grid, n_iter = 10, cv = 3, verbose=1, random_state=0)\n",
    "gb_search = gb_search.fit(X_train, y_train)"
   ]
  },
  {
   "cell_type": "code",
   "execution_count": 35,
   "metadata": {},
   "outputs": [
    {
     "data": {
      "text/plain": [
       "{'subsample': 0.9,\n",
       " 'n_estimators': 350,\n",
       " 'min_samples_split': 10,\n",
       " 'min_samples_leaf': 2,\n",
       " 'max_features': 'auto',\n",
       " 'max_depth': 50,\n",
       " 'learning_rate': 0.1}"
      ]
     },
     "execution_count": 35,
     "metadata": {},
     "output_type": "execute_result"
    }
   ],
   "source": [
    "gb_search.best_params_"
   ]
  },
  {
   "cell_type": "markdown",
   "metadata": {},
   "source": [
    "## Gradient Boosting Model Evaluation "
   ]
  },
  {
   "cell_type": "code",
   "execution_count": 36,
   "metadata": {},
   "outputs": [],
   "source": [
    "# predicting over training & testing datasets\n",
    "y_train_pred = gb_search.predict(X_train)\n",
    "y_test_pred = gb_search.predict(X_test)"
   ]
  },
  {
   "cell_type": "markdown",
   "metadata": {},
   "source": [
    "##  Model evaluation "
   ]
  },
  {
   "cell_type": "markdown",
   "metadata": {},
   "source": [
    "### Accuracy"
   ]
  },
  {
   "cell_type": "markdown",
   "metadata": {},
   "source": [
    "There are other ways of measuring model performance (precision, recall, F1 Score, ROC Curve, etc). The accuracy is very simple to obtain. To get the mean accuracy on the given training dataset, we can use the method `score`:"
   ]
  },
  {
   "cell_type": "code",
   "execution_count": 37,
   "metadata": {},
   "outputs": [
    {
     "data": {
      "text/plain": [
       "1.0"
      ]
     },
     "execution_count": 37,
     "metadata": {},
     "output_type": "execute_result"
    }
   ],
   "source": [
    "gb_search.score(X_train, y_train)"
   ]
  },
  {
   "cell_type": "markdown",
   "metadata": {},
   "source": [
    "To get the mean accuracy on the given test dataset, we can also use the method `score`:"
   ]
  },
  {
   "cell_type": "code",
   "execution_count": 38,
   "metadata": {},
   "outputs": [
    {
     "data": {
      "text/plain": [
       "0.9744872436218109"
      ]
     },
     "execution_count": 38,
     "metadata": {},
     "output_type": "execute_result"
    }
   ],
   "source": [
    "gb_search.score(X_test, y_test)"
   ]
  },
  {
   "cell_type": "markdown",
   "metadata": {},
   "source": [
    "### Confusion Matrix"
   ]
  },
  {
   "cell_type": "code",
   "execution_count": 39,
   "metadata": {},
   "outputs": [
    {
     "data": {
      "text/plain": [
       "array([[3149,   61],\n",
       "       [  92, 2695]], dtype=int64)"
      ]
     },
     "execution_count": 39,
     "metadata": {},
     "output_type": "execute_result"
    }
   ],
   "source": [
    "metrics.confusion_matrix(y_test, y_test_pred)"
   ]
  },
  {
   "cell_type": "markdown",
   "metadata": {},
   "source": [
    "`scikit-learn` also offers a nice function to plot the confusion matrix."
   ]
  },
  {
   "cell_type": "code",
   "execution_count": 40,
   "metadata": {},
   "outputs": [
    {
     "data": {
      "text/plain": [
       "<sklearn.metrics._plot.confusion_matrix.ConfusionMatrixDisplay at 0x16e63a38610>"
      ]
     },
     "execution_count": 40,
     "metadata": {},
     "output_type": "execute_result"
    },
    {
     "data": {
      "image/png": "[encoded data removed]",
      "text/plain": [
       "<Figure size 640x480 with 2 Axes>"
      ]
     },
     "metadata": {},
     "output_type": "display_data"
    }
   ],
   "source": [
    "cm = metrics.confusion_matrix(y_test, y_test_pred)\n",
    "disp = ConfusionMatrixDisplay(confusion_matrix=cm, display_labels=gb_search.classes_)\n",
    "disp.plot()"
   ]
  },
  {
   "cell_type": "markdown",
   "metadata": {},
   "source": [
    "### Recall\n",
    "\n",
    "The recall of each class:"
   ]
  },
  {
   "cell_type": "code",
   "execution_count": 41,
   "metadata": {
    "scrolled": true
   },
   "outputs": [
    {
     "data": {
      "text/plain": [
       "array([0.98099688, 0.96698959])"
      ]
     },
     "execution_count": 41,
     "metadata": {},
     "output_type": "execute_result"
    }
   ],
   "source": [
    "metrics.recall_score(y_test, y_test_pred, average=None)"
   ]
  },
  {
   "cell_type": "markdown",
   "metadata": {},
   "source": [
    "### Precision\n",
    "\n",
    "The precision of each class:"
   ]
  },
  {
   "cell_type": "code",
   "execution_count": 42,
   "metadata": {},
   "outputs": [
    {
     "data": {
      "text/plain": [
       "array([0.9716137 , 0.97786647])"
      ]
     },
     "execution_count": 42,
     "metadata": {},
     "output_type": "execute_result"
    }
   ],
   "source": [
    "metrics.precision_score(y_test, y_test_pred, average=None)"
   ]
  },
  {
   "cell_type": "markdown",
   "metadata": {},
   "source": [
    "### F1score\n",
    "\n",
    "The f1score of each class:"
   ]
  },
  {
   "cell_type": "code",
   "execution_count": 43,
   "metadata": {},
   "outputs": [
    {
     "data": {
      "text/plain": [
       "array([0.97628275, 0.97239762])"
      ]
     },
     "execution_count": 43,
     "metadata": {},
     "output_type": "execute_result"
    }
   ],
   "source": [
    "metrics.f1_score(y_test, y_test_pred, average=None)"
   ]
  },
  {
   "cell_type": "markdown",
   "metadata": {},
   "source": [
    "### Receiver Operating Characteristic - AUC\n",
    "\n",
    "In able to plot ROC or evaluate AUC, we need the probability outputs of our model instead of the final prediction.\n",
    "\n",
    "We call the `predict_proba` method rather than `predict` in order to obtain a list of probabilities which represent the likelihood that a sample falls under a given category. "
   ]
  },
  {
   "cell_type": "code",
   "execution_count": 44,
   "metadata": {},
   "outputs": [],
   "source": [
    "probs = gb_search.predict_proba(X_test)\n",
    "malignant_probs = probs[:,1]\n",
    "\n",
    "# calculating roc arguments\n",
    "fpr, tpr, thresholds = metrics.roc_curve(y_test, malignant_probs)\n",
    "# calculating auc\n",
    "roc_auc = metrics.auc(fpr, tpr)"
   ]
  },
  {
   "cell_type": "code",
   "execution_count": 45,
   "metadata": {
    "scrolled": true
   },
   "outputs": [
    {
     "data": {
      "image/png": "[encoded data removed]",
      "text/plain": [
       "<Figure size 800x600 with 1 Axes>"
      ]
     },
     "metadata": {},
     "output_type": "display_data"
    }
   ],
   "source": [
    "plt.figure(figsize=[8,6])\n",
    "plt.title('Receiver Operating Characteristic')\n",
    "plt.plot(fpr, tpr, 'y', label = 'AUC = %0.2f' % roc_auc)\n",
    "plt.legend(loc = 'lower right')\n",
    "plt.plot([0, 1], [0, 1],'r--')\n",
    "plt.xlim([0, 1])\n",
    "plt.ylim([0, 1])\n",
    "plt.ylabel('True Positive Rate')\n",
    "plt.xlabel('False Positive Rate')\n",
    "plt.show()"
   ]
  },
  {
   "cell_type": "markdown",
   "metadata": {},
   "source": [
    "## Gradient Boost Feature Importance"
   ]
  },
  {
   "cell_type": "code",
   "execution_count": 46,
   "metadata": {},
   "outputs": [
    {
     "data": {
      "image/png": "[encoded data removed]",
      "text/plain": [
       "<Figure size 2000x2000 with 1 Axes>"
      ]
     },
     "metadata": {},
     "output_type": "display_data"
    }
   ],
   "source": [
    "features = X_train.columns\n",
    "importances = gb_search.best_estimator_.feature_importances_\n",
    "indices = np.argsort(importances)\n",
    "\n",
    "plt.figure(figsize=(20, 20))\n",
    "plt.title('Feature Importances')\n",
    "plt.barh(range(len(indices)), importances[indices], color='b', align='center')\n",
    "plt.yticks(range(len(indices)), [features[i] for i in indices])\n",
    "plt.xlabel('Relative Importance')\n",
    "plt.show()"
   ]
  },
  {
   "cell_type": "markdown",
   "metadata": {},
   "source": [
    "# References\n",
    "\n",
    "https://towardsdatascience.com/ensemble-methods-bagging-boosting-and-stacking-c9214a10a205\n",
    "\n",
    "https://medium.com/@ODSC/optimizing-hyperparameters-for-random-forest-algorithms-in-scikit-learn-d60b7aa07ead\n",
    "\n",
    "https://towardsdatascience.com/basic-ensemble-learning-random-forest-adaboost-gradient-boosting-step-by-step-explained-95d49d1e2725"
   ]
  }
 ],
 "metadata": {
  "kernelspec": {
   "display_name": "base",
   "language": "python",
   "name": "python3"
  },
  "language_info": {
   "codemirror_mode": {
    "name": "ipython",
    "version": 3
   },
   "file_extension": ".py",
   "mimetype": "text/x-python",
   "name": "python",
   "nbconvert_exporter": "python",
   "pygments_lexer": "ipython3",
   "version": "3.9.18"
  },
  "vscode": {
   "interpreter": {
    "hash": "ad2bdc8ecc057115af97d19610ffacc2b4e99fae6737bb82f5d7fb13d2f2c186"
   }
  }
 },
 "nbformat": 4,
 "nbformat_minor": 2
}
