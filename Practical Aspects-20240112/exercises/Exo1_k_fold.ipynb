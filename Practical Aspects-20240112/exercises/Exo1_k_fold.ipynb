{
 "cells": [
  {
   "attachments": {},
   "cell_type": "markdown",
   "metadata": {},
   "source": [
    "# K-fold cross validation\n",
    "\n",
    "Implement a random k-fold cross validation algorithm from scratch.\n",
    "\n",
    "Your algorithm should:\n",
    "- load the iris dataset and split its columns into features and target\n",
    "- split the dataset into k-fold to perform cross validation\n",
    "\n",
    "You can use the code bellow to implement your algorithm or implement yourself from scratch.\n",
    "\n"
   ]
  },
  {
   "cell_type": "code",
   "execution_count": 3,
   "metadata": {
    "ExecuteTime": {
     "end_time": "2024-01-14T11:26:48.163451600Z",
     "start_time": "2024-01-14T11:26:48.148201400Z"
    }
   },
   "outputs": [],
   "source": [
    "# we will implement a k-fold cross validation from scratch\n",
    "# we will use the iris dataset\n",
    "\n",
    "import numpy as np\n",
    "import pandas as pd\n",
    "from sklearn.datasets import load_iris\n",
    "\n",
    "# load the iris dataset\n",
    "iris = load_iris()\n",
    "X = iris.data\n",
    "y = iris.target\n",
    "\n",
    "def k_fold_cross_validation(X, y, k, model):\n",
    "    print(\"taata\");\n",
    "    # X is the data\n",
    "    # y is the target\n",
    "    # k is the number of folds\n",
    "    # model is the model to use  \n",
    "    # we will return the accuracy of the model\n",
    "    # we will use the accuracy as a metric\n",
    "    \n",
    "    #################################\n",
    "\n",
    "    # shuffle the data and create X and y ready to be used to fit the model\n",
    "    # in a way that if I say X[0] the algorithm will return the first fold  of the data, the same for y\n",
    "\n",
    "    #################################\n",
    "    \n",
    "    # we will need to define a for loop to iterate over the folds and guarantee that each fold is used as a test set at least once\n",
    "    # inside this for loop we will call the functions fit and accuracy for each one of the folds\n",
    "    # X_train, y_train, X_test, y_test are build each time the for loop is called by using X and y divided before\n",
    "    \n",
    "    #accuracies = []\n",
    "    #######Your for loop here\n",
    "\n",
    "    # Your code to define X_train, y_train, X_test, y_test\n",
    "\n",
    "    # we will fit the model on the train data\n",
    "        #model.fit(X_train, y_train)\n",
    "        \n",
    "        # we will predict on the test data\n",
    "        #y_pred = model.predict(X_test)\n",
    "        \n",
    "        # we will compute the accuracy\n",
    "        #accuracy = np.mean(y_pred == y_test)\n",
    "        \n",
    "        # we will append the accuracy to the list\n",
    "        #accuracies.append(accuracy)\n",
    "    \n",
    "    # we will return the mean accuracy\n",
    "    #return np.mean(accuracies)"
   ]
  },
  {
   "cell_type": "code",
   "execution_count": 4,
   "metadata": {
    "ExecuteTime": {
     "end_time": "2024-01-14T11:26:55.648784700Z",
     "start_time": "2024-01-14T11:26:55.628411600Z"
    }
   },
   "outputs": [
    {
     "name": "stdout",
     "output_type": "stream",
     "text": [
      "taata\n"
     ]
    }
   ],
   "source": [
    "#You can use the code below to test your function\n",
    "\n",
    "#import the random forest model\n",
    "from sklearn.ensemble import RandomForestClassifier\n",
    "\n",
    "# we will use the random forest model\n",
    "model = RandomForestClassifier()\n",
    "\n",
    "# we will use the k_fold_cross_validation function\n",
    "k_fold_cross_validation(X, y, 5, model)"
   ]
  },
  {
   "cell_type": "code",
   "outputs": [],
   "source": [],
   "metadata": {
    "collapsed": false
   }
  }
 ],
 "metadata": {
  "kernelspec": {
   "display_name": "base",
   "language": "python",
   "name": "python3"
  },
  "language_info": {
   "codemirror_mode": {
    "name": "ipython",
    "version": 3
   },
   "file_extension": ".py",
   "mimetype": "text/x-python",
   "name": "python",
   "nbconvert_exporter": "python",
   "pygments_lexer": "ipython3",
   "version": "3.9.13"
  },
  "orig_nbformat": 4,
  "vscode": {
   "interpreter": {
    "hash": "ad2bdc8ecc057115af97d19610ffacc2b4e99fae6737bb82f5d7fb13d2f2c186"
   }
  }
 },
 "nbformat": 4,
 "nbformat_minor": 2
}
