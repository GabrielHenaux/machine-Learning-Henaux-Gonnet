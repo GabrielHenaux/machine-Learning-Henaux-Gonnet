{
 "cells": [
  {
   "attachments": {},
   "cell_type": "markdown",
   "metadata": {},
   "source": [
    "# One-hot-encoding\n",
    "\n",
    "To this exercise you will implement the one-hot-encoding algorithm from scratch.\n",
    "You can use pandas but not use scikit-learn to implement such algorithm\n",
    "\n",
    "You can use the code bellow or use a code of your own from scratch\n",
    "\n",
    "Hands on!"
   ]
  },
  {
   "cell_type": "code",
   "execution_count": 8,
   "metadata": {
    "ExecuteTime": {
     "end_time": "2024-01-14T16:09:05.101700700Z",
     "start_time": "2024-01-14T16:09:05.073877800Z"
    }
   },
   "outputs": [
    {
     "name": "stdout",
     "output_type": "stream",
     "text": [
      "     LoanID Gender Married Dependents     Education SelfEmployed  \\\n",
      "0  LP001002   Male      No          0      Graduate           No   \n",
      "1  LP001003   Male     Yes          1      Graduate           No   \n",
      "2  LP001005   Male     Yes          0      Graduate          Yes   \n",
      "3  LP001006   Male     Yes          0  Not Graduate           No   \n",
      "4  LP001008   Male      No          0      Graduate           No   \n",
      "\n",
      "   ApplicantIncome  CoapplicantIncome  LoanAmount  LoanAmountTerm  \\\n",
      "0             5849                0.0         NaN           360.0   \n",
      "1             4583             1508.0       128.0           360.0   \n",
      "2             3000                0.0        66.0           360.0   \n",
      "3             2583             2358.0       120.0           360.0   \n",
      "4             6000                0.0       141.0           360.0   \n",
      "\n",
      "   CreditHistory PropertyArea  LoanStatus_Y  LoanStatus_N  \n",
      "0            1.0        Urban             1             0  \n",
      "1            1.0        Rural             0             1  \n",
      "2            1.0        Urban             1             0  \n",
      "3            1.0        Urban             1             0  \n",
      "4            1.0        Urban             1             0  \n"
     ]
    }
   ],
   "source": [
    "import pandas as pd\n",
    "\n",
    "# Load the loans prediction dataset\n",
    "df = pd.read_csv(\"data/data_loans.csv\")\n",
    "\n",
    "def one_hot_encoding(df, column_name):\n",
    "    \"\"\"\n",
    "    Perform one-hot-encoding on the specified column of the input dataframe\n",
    "    :param df: Dataframe to be encoded\n",
    "    :param column_name: Column name to be encoded\n",
    "    :return: Dataframe with one-hot-encoded columns\n",
    "    \"\"\"\n",
    "    unique_values = df[column_name].unique()\n",
    "\n",
    "    for value in unique_values:\n",
    "        \n",
    "        new_column_name = f\"{column_name}_{value}\"\n",
    "        \n",
    "        df[new_column_name] = df[column_name].apply(lambda x: 1 if x == value else 0)\n",
    "\n",
    "    df.drop(column_name, axis=1, inplace=True)\n",
    "\n",
    "    return df\n",
    "\n",
    "\n",
    "\n",
    "# One-hot-encode the categorical column 'Loan_Status'\n",
    "df = one_hot_encoding(df, 'LoanStatus')\n",
    "print(df.head())"
   ]
  },
  {
   "cell_type": "code",
   "execution_count": null,
   "metadata": {},
   "outputs": [],
   "source": []
  }
 ],
 "metadata": {
  "kernelspec": {
   "display_name": "Python 3",
   "language": "python",
   "name": "python3"
  },
  "language_info": {
   "codemirror_mode": {
    "name": "ipython",
    "version": 3
   },
   "file_extension": ".py",
   "mimetype": "text/x-python",
   "name": "python",
   "nbconvert_exporter": "python",
   "pygments_lexer": "ipython3",
   "version": "3.7.15 (default, Nov 24 2022, 18:44:54) [MSC v.1916 64 bit (AMD64)]"
  },
  "orig_nbformat": 4,
  "vscode": {
   "interpreter": {
    "hash": "914a73f32d308ae8debcaf6a2c2af8e68613f922620f6864a793ea7cdc2482ad"
   }
  }
 },
 "nbformat": 4,
 "nbformat_minor": 2
}
