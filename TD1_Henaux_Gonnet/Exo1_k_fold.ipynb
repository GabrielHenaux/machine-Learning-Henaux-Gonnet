{
 "cells": [
  {
   "attachments": {},
   "cell_type": "markdown",
   "metadata": {},
   "source": [
    "# K-fold cross validation\n",
    "\n",
    "Implement a random k-fold cross validation algorithm from scratch.\n",
    "\n",
    "Your algorithm should:\n",
    "- load the iris dataset and split its columns into features and target\n",
    "- split the dataset into k-fold to perform cross validation\n",
    "\n",
    "You can use the code bellow to implement your algorithm or implement yourself from scratch.\n",
    "\n"
   ]
  },
  {
   "cell_type": "code",
   "execution_count": 3,
   "metadata": {
    "ExecuteTime": {
     "end_time": "2024-01-14T12:56:34.573889100Z",
     "start_time": "2024-01-14T12:56:34.556493700Z"
    }
   },
   "outputs": [],
   "source": [
    "# we will implement a k-fold cross validation from scratch\n",
    "# we will use the iris dataset\n",
    "\n",
    "import numpy as np\n",
    "import pandas as pd\n",
    "from sklearn.datasets import load_iris\n",
    "\n",
    "# load the iris dataset\n",
    "iris = load_iris()\n",
    "X = iris.data\n",
    "y = iris.target\n",
    "\n",
    "def k_fold_cross_validation(X, y, k, model):\n",
    "    # Number of samples in the dataset\n",
    "    n_samples = X.shape[0]\n",
    "\n",
    "    # Shuffle indices and split them into k subsets\n",
    "    indices = np.arange(n_samples)\n",
    "    np.random.shuffle(indices)\n",
    "    fold_sizes = np.full(k, n_samples // k, dtype=int)\n",
    "    fold_sizes[:n_samples % k] += 1\n",
    "    current = 0\n",
    "    folds = []\n",
    "    for fold_size in fold_sizes:\n",
    "        start, stop = current, current + fold_size\n",
    "        folds.append(indices[start:stop])\n",
    "        current = stop\n",
    "\n",
    "    accuracies = []\n",
    "    for i in range(k):\n",
    "        # Create training and test sets for the i-th fold\n",
    "        test_indices = folds[i]\n",
    "        train_indices = np.concatenate([folds[j] for j in range(k) if j != i])\n",
    "\n",
    "        X_train, X_test = X[train_indices], X[test_indices]\n",
    "        y_train, y_test = y[train_indices], y[test_indices]\n",
    "\n",
    "        # Train the model on the training set\n",
    "        model.fit(X_train, y_train)\n",
    "\n",
    "        # Make predictions and evaluate performance on the test set\n",
    "        y_pred = model.predict(X_test)\n",
    "        accuracy = np.mean(y_pred == y_test)\n",
    "        accuracies.append(accuracy)\n",
    "\n",
    "    # Return the average accuracy\n",
    "    return np.mean(accuracies)\n"
   ]
  },
  {
   "cell_type": "code",
   "execution_count": 4,
   "metadata": {
    "ExecuteTime": {
     "end_time": "2024-01-14T12:56:36.263637500Z",
     "start_time": "2024-01-14T12:56:34.569879500Z"
    }
   },
   "outputs": [
    {
     "data": {
      "text/plain": "0.96"
     },
     "execution_count": 4,
     "metadata": {},
     "output_type": "execute_result"
    }
   ],
   "source": [
    "#You can use the code below to test your function\n",
    "\n",
    "#import the random forest model\n",
    "from sklearn.ensemble import RandomForestClassifier\n",
    "\n",
    "# we will use the random forest model\n",
    "model = RandomForestClassifier()\n",
    "\n",
    "# we will use the k_fold_cross_validation function\n",
    "k_fold_cross_validation(X, y, 5, model)"
   ]
  }
 ],
 "metadata": {
  "kernelspec": {
   "display_name": "base",
   "language": "python",
   "name": "python3"
  },
  "language_info": {
   "codemirror_mode": {
    "name": "ipython",
    "version": 3
   },
   "file_extension": ".py",
   "mimetype": "text/x-python",
   "name": "python",
   "nbconvert_exporter": "python",
   "pygments_lexer": "ipython3",
   "version": "3.9.13"
  },
  "orig_nbformat": 4,
  "vscode": {
   "interpreter": {
    "hash": "ad2bdc8ecc057115af97d19610ffacc2b4e99fae6737bb82f5d7fb13d2f2c186"
   }
  }
 },
 "nbformat": 4,
 "nbformat_minor": 2
}
